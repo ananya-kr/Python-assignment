{
 "cells": [
  {
   "cell_type": "code",
   "execution_count": 3,
   "metadata": {},
   "outputs": [
    {
     "name": "stdout",
     "output_type": "stream",
     "text": [
      "Enter the value for n: 10\n",
      "1  ---> 1\n",
      "2  ---> 3\n",
      "3  ---> 6\n",
      "4  ---> 10\n",
      "5  ---> 15\n",
      "6  ---> 21\n",
      "7  ---> 28\n",
      "8  ---> 36\n",
      "9  ---> 45\n",
      "10  ---> 55\n",
      "The sum of 10 numbers is  55\n"
     ]
    }
   ],
   "source": [
    "#Assignment-1\n",
    "\n",
    "n=int(input(\"Enter the value for n: \"))\n",
    "sum=0\n",
    "i=1;\n",
    "while i<=n:\n",
    "    sum=sum+i\n",
    "    print(i,\" --->\", sum )\n",
    "    i=i+1\n",
    "print(\"The sum of\" , n ,\"numbers is \",sum)\n"
   ]
  },
  {
   "cell_type": "code",
   "execution_count": 7,
   "metadata": {},
   "outputs": [
    {
     "name": "stdout",
     "output_type": "stream",
     "text": [
      "Enter the number: 141\n",
      "141 is not a prime number\n"
     ]
    }
   ],
   "source": [
    "#Assignment-2\n",
    "\n",
    "n=int(input(\"Enter the number: \"))\n",
    "if n<=1:\n",
    "    print(n,\"is not a prime number\")\n",
    "else:\n",
    "    \n",
    "    for i in range(2,n):\n",
    "       if (n % i)== 0:\n",
    "           print(n,\"is not a prime number\")\n",
    "           break\n",
    "    else:\n",
    "            print(n,\"is a prime number\")\n",
    "\n"
   ]
  },
  {
   "cell_type": "code",
   "execution_count": null,
   "metadata": {
    "collapsed": true
   },
   "outputs": [],
   "source": []
  }
 ],
 "metadata": {
  "kernelspec": {
   "display_name": "Python 3",
   "language": "python",
   "name": "python3"
  },
  "language_info": {
   "codemirror_mode": {
    "name": "ipython",
    "version": 3
   },
   "file_extension": ".py",
   "mimetype": "text/x-python",
   "name": "python",
   "nbconvert_exporter": "python",
   "pygments_lexer": "ipython3",
   "version": "3.6.3"
  }
 },
 "nbformat": 4,
 "nbformat_minor": 2
}
